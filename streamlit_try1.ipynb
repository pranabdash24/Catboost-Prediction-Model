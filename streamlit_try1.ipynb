{
 "cells": [
  {
   "cell_type": "code",
   "execution_count": 3,
   "id": "e484b096-1835-4093-bf52-e1883ada9e65",
   "metadata": {},
   "outputs": [
    {
     "name": "stderr",
     "output_type": "stream",
     "text": [
      "2024-08-19 21:02:01.806 \n",
      "  \u001b[33m\u001b[1mWarning:\u001b[0m to view this Streamlit app on a browser, run it with the following\n",
      "  command:\n",
      "\n",
      "    streamlit run C:\\Users\\prana\\anaconda3\\Lib\\site-packages\\ipykernel_launcher.py [ARGUMENTS]\n"
     ]
    }
   ],
   "source": [
    "import streamlit as st\n",
    "import pandas as pd\n",
    "from catboost import CatBoostClassifier\n",
    "import pickle\n",
    "\n",
    "# Load your trained model (ensure this path is correct)\n",
    "model = pickle.load(open('model.pkl', 'rb'))\n",
    "\n",
    "st.title(\"Gym Membership Activity Prediction\")\n",
    "\n",
    "# Input fields for the features\n",
    "pool_visits = st.number_input(\"Enter the number of pool visits\", min_value=0, step=1)\n",
    "mem_length = st.number_input(\"Enter the length of membership (in days)\", min_value=0, step=1)\n",
    "mem_category = st.selectbox(\"Select membership category\", ['peak', 'off-peak', 'others'])\n",
    "age = st.number_input(\"Enter the user's age\", min_value=0, step=1)\n",
    "gender = st.selectbox(\"Select gender\", ['Male', 'Female'])\n",
    "class_bookings = st.number_input(\"Enter the number of class bookings\", min_value=0, step=1)\n",
    "alt_bookings = st.number_input(\"Enter the number of alternative bookings\", min_value=0, step=1)\n",
    "oth_bookings = st.number_input(\"Enter the number of other bookings\", min_value=0, step=1)\n",
    "squash_bookings = st.number_input(\"Enter the number of squash bookings\", min_value=0, step=1)\n",
    "price_level = st.selectbox(\"Select price level\", ['student', 'alumni', 'others', 'community', 'staff', 'junior'])\n",
    "\n",
    "# Prediction button\n",
    "if st.button(\"Predict\"):\n",
    "    # Create a DataFrame from the inputs\n",
    "    input_data = pd.DataFrame({\n",
    "        'pool_visits': [pool_visits],\n",
    "        'mem_length': [mem_length],\n",
    "        'mem_category': [mem_category],\n",
    "        'age': [age],\n",
    "        'gender': [gender],\n",
    "        'class_bookings': [class_bookings],\n",
    "        'alt_bookings': [alt_bookings],\n",
    "        'oth_bookings': [oth_bookings],\n",
    "        'squash_bookings': [squash_bookings],\n",
    "        'price_level': [price_level]\n",
    "    })\n",
    "\n",
    "    # Perform the prediction\n",
    "    prediction = model.predict(input_data)[0]\n",
    "\n",
    "    # Output the prediction\n",
    "    if prediction == 1:\n",
    "        st.success(\"The prediction is: Active\")\n",
    "    else:\n",
    "        st.warning(\"The prediction is: Inactive\")\n"
   ]
  }
 ],
 "metadata": {
  "kernelspec": {
   "display_name": "Python 3 (ipykernel)",
   "language": "python",
   "name": "python3"
  },
  "language_info": {
   "codemirror_mode": {
    "name": "ipython",
    "version": 3
   },
   "file_extension": ".py",
   "mimetype": "text/x-python",
   "name": "python",
   "nbconvert_exporter": "python",
   "pygments_lexer": "ipython3",
   "version": "3.12.4"
  }
 },
 "nbformat": 4,
 "nbformat_minor": 5
}
