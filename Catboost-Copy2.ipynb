{
 "cells": [
  {
   "cell_type": "code",
   "execution_count": 1,
   "id": "36baaa9d",
   "metadata": {},
   "outputs": [],
   "source": [
    "import pandas as pd\n",
    "import warnings\n",
    "warnings.filterwarnings('ignore')\n",
    "from sklearn.model_selection import train_test_split\n",
    "from sklearn.ensemble import RandomForestClassifier\n",
    "from sklearn.metrics import classification_report\n",
    "from sklearn.preprocessing import LabelEncoder\n",
    "from sklearn.model_selection import train_test_split\n",
    "from sklearn.preprocessing import OneHotEncoder\n",
    "from sklearn.compose import ColumnTransformer\n",
    "from sklearn.pipeline import Pipeline\n",
    "from sklearn.metrics import mean_squared_error, r2_score\n",
    "from sklearn.linear_model import LinearRegression\n",
    "from sklearn.ensemble import RandomForestRegressor\n",
    "from catboost import CatBoostRegressor\n",
    "from catboost import CatBoostClassifier\n",
    "from sklearn.metrics import accuracy_score, classification_report\n",
    "from sklearn.model_selection import train_test_split"
   ]
  },
  {
   "cell_type": "markdown",
   "id": "70af3b5a",
   "metadata": {},
   "source": [
    "### Importing Libraries"
   ]
  },
  {
   "cell_type": "markdown",
   "id": "6a04a383",
   "metadata": {},
   "source": [
    "### Importing Datasets"
   ]
  },
  {
   "cell_type": "code",
   "execution_count": null,
   "id": "a67a79ff",
   "metadata": {},
   "outputs": [],
   "source": [
    "# Load your dataset\n",
    "data = pd.read_excel('finale.xlsx')\n",
    "data.head(3)"
   ]
  },
  {
   "cell_type": "markdown",
   "id": "6e5ea376",
   "metadata": {},
   "source": [
    "### Calculating and Creating the Activity Column\n",
    "\n",
    "##### The logic has been updated to classify members as Active if they meet either of the following conditions:\n",
    "\n",
    "1. *At least 8 gym+pool visits OR* *At least 3 total bookings.*"
   ]
  },
  {
   "cell_type": "code",
   "execution_count": null,
   "id": "bd7af9f2",
   "metadata": {},
   "outputs": [],
   "source": [
    "# Logic to create the 'Activity' column\n",
    "data['Activity'] = ((data['gym_visits'] + data['pool_visits'] >= 20) | (data['total_bookings'] >= 6)).map({True: 'Active', False: 'Inactive'})\n",
    "\n",
    "# Displaying the first few rows to confirm the new column\n",
    "data.head()"
   ]
  },
  {
   "cell_type": "markdown",
   "id": "5c73fc82",
   "metadata": {},
   "source": [
    "# Prediction Model Building"
   ]
  },
  {
   "cell_type": "markdown",
   "id": "297a74a4",
   "metadata": {},
   "source": [
    "### CatBoost"
   ]
  },
  {
   "cell_type": "code",
   "execution_count": null,
   "id": "91df51e3",
   "metadata": {},
   "outputs": [],
   "source": [
    "from catboost import CatBoostClassifier\n",
    "from sklearn.metrics import accuracy_score, classification_report\n",
    "from sklearn.model_selection import train_test_split\n",
    "\n",
    "# Example DataFrame\n",
    "df_1 = data.copy()\n",
    "\n",
    "# Define features and target\n",
    "features = ['pool_visits', 'mem_length', 'mem_category', 'age', 'gender', 'class_bookings', 'alt_bookings',\n",
    "            'oth_bookings', 'squash_bookings', 'price_level']\n",
    "categorical_columns = ['mem_category', 'price_level', 'gender']\n",
    "df_1[categorical_columns] = df_1[categorical_columns].astype('category')\n",
    "\n",
    "X = df_1[features]\n",
    "y = df_1['Activity'].map({'Active': 1, 'Inactive': 0})\n",
    "y = y.fillna(0)  # Filling any remaining NaN values\n",
    "\n",
    "# Perform train-test split\n",
    "X_train, X_test, y_train, y_test = train_test_split(X, y, test_size=0.3, random_state=42)\n",
    "\n",
    "# Specify categorical features by their column indices\n",
    "cat_features = [X.columns.get_loc(col) for col in categorical_columns]\n",
    "\n",
    "# Initialize the CatBoost model\n",
    "model = CatBoostClassifier(\n",
    "    iterations=100,            # Number of boosting iterations\n",
    "    learning_rate=0.1,         # Learning rate\n",
    "    depth=6,                   # Depth of the tree\n",
    "    cat_features=cat_features, # Specify categorical features\n",
    "    verbose=10                 # Verbosity\n",
    ")\n",
    "\n",
    "# Train the model\n",
    "model.fit(X_train, y_train)\n",
    "\n",
    "# Make predictions on the training set\n",
    "y_train_pred = model.predict(X_train)\n",
    "\n",
    "# Evaluate the model on the training set\n",
    "# train_accuracy = accuracy_score(y_train, y_train_pred)\n",
    "# train_report = classification_report(y_train, y_train_pred)\n",
    "\n",
    "# print(\"\\nTraining Set Accuracy: {:.2f}\".format(train_accuracy))\n",
    "# print(\"\\nTraining Set Classification Report:\")\n",
    "# print(train_report)\n",
    "\n",
    "# Make predictions on the test set\n",
    "y_test_pred = model.predict(X_test)\n",
    "\n",
    "Evaluate the model on the test set\n",
    "test_accuracy = accuracy_score(y_test, y_test_pred)\n",
    "test_report = classification_report(y_test, y_test_pred)\n",
    "\n",
    "print(\"\\nTest Set Accuracy: {:.2f}\".format(test_accuracy))\n",
    "print(\"\\nTest Set Classification Report:\")\n",
    "print(test_report)\n"
   ]
  },
  {
   "cell_type": "code",
   "execution_count": null,
   "id": "02cfb105-ade3-4e01-b4b6-c07e16e7ede0",
   "metadata": {},
   "outputs": [],
   "source": [
    "import pickle\n",
    "\n",
    "# Assuming 'model' is your trained CatBoost model\n",
    "with open('model.pkl', 'wb') as f:\n",
    "    pickle.dump(model, f)\n"
   ]
  },
  {
   "cell_type": "markdown",
   "id": "9cc006dd",
   "metadata": {},
   "source": [
    "### User input and prediction"
   ]
  },
  {
   "cell_type": "code",
   "execution_count": null,
   "id": "07ae2563",
   "metadata": {},
   "outputs": [],
   "source": [
    "# def predict_activity(model, pool_visits, mem_length, mem_category, age, gender, \n",
    "#                      class_bookings, alt_bookings, oth_bookings, squash_bookings, price_level):\n",
    "    \n",
    "#     input_data = pd.DataFrame({\n",
    "#         'pool_visits': [pool_visits],\n",
    "#         'mem_length': [mem_length],\n",
    "#         'mem_category': [mem_category],\n",
    "#         'age': [age],\n",
    "#         'gender': [gender],\n",
    "#         'class_bookings': [class_bookings],\n",
    "#         'alt_bookings': [alt_bookings],\n",
    "#         'oth_bookings': [oth_bookings],\n",
    "#         'squash_bookings': [squash_bookings],\n",
    "#         'price_level': [price_level]\n",
    "#     })\n",
    "    \n",
    "#     categorical_columns = ['mem_category', 'price_level', 'gender']\n",
    "#     input_data[categorical_columns] = input_data[categorical_columns].astype('category')\n",
    "    \n",
    "#     prediction = model.predict(input_data)\n",
    "    \n",
    "#     activity_type = 'Active' if prediction[0] == 1 else 'Inactive'\n",
    "    \n",
    "#     return activity_type\n",
    "\n",
    "# def print_prediction_output(predicted_activity, pool_visits, mem_length, mem_category, age, gender, \n",
    "#                             class_bookings, alt_bookings, oth_bookings, squash_bookings, price_level):\n",
    "#     # Create a nicely formatted template for the output\n",
    "#     print(\" \")\n",
    "#     print(\"=\" * 50)\n",
    "#     print(\" \" * 15 + \"ACTIVITY PREDICTION\")\n",
    "#     print(\"=\" * 50)\n",
    "    \n",
    "#     # Display input data in a tabular format\n",
    "#     print(f\"{'Pool Visits:':<20}{pool_visits}\")\n",
    "#     print(f\"{'Membership Length:':<20}{mem_length} days\")\n",
    "#     print(f\"{'Membership Category:':<20}{mem_category}\")\n",
    "#     print(f\"{'Age:':<20}{age} years\")\n",
    "#     print(f\"{'Gender:':<20}{gender}\")\n",
    "#     print(f\"{'Class Bookings:':<20}{class_bookings}\")\n",
    "#     print(f\"{'Alternative Bookings:':<20}{alt_bookings}\")\n",
    "#     print(f\"{'Other Bookings:':<20}{oth_bookings}\")\n",
    "#     print(f\"{'Squash Bookings:':<20}{squash_bookings}\")\n",
    "#     print(f\"{'Price Level:':<20}{price_level}\")\n",
    "    \n",
    "#     print(\"-\" * 50)\n",
    "    \n",
    "#     # Display the predicted activity in a prominent way\n",
    "#     print(f\"{'Predicted Activity Type:': <20} {predicted_activity}\")\n",
    "    \n",
    "#     print(\"=\" * 50)\n",
    "#     print(\" \" * 10 + \"Prediction Completed\")\n",
    "#     print(\"=\" * 50)\n",
    "\n",
    "# # Asking for user inputs\n",
    "# print(\"=\" * 50)\n",
    "# print(\" \"*15 + \"Initiating Prediction Model\")\n",
    "# print(\"=\" * 50)\n",
    "# pool_visits = int(input(\"Enter the number of pool visits: \"))\n",
    "# mem_length = int(input(\"Enter the length of membership (in days): \"))\n",
    "# mem_category = input(\"Enter the membership category (e.g., peak, off-peak, others): \")\n",
    "# age = int(input(\"Enter the user's age: \"))\n",
    "# gender = input(\"Enter the user's gender (Male/Female): \")\n",
    "# class_bookings = int(input(\"Enter the number of class bookings: \"))\n",
    "# alt_bookings = int(input(\"Enter the number of alternative bookings: \"))\n",
    "# oth_bookings = int(input(\"Enter the number of other bookings: \"))\n",
    "# squash_bookings = int(input(\"Enter the number of squash bookings: \"))\n",
    "# price_level = input(\"Enter the price level (e.g., student, alumni, others, community, staff, junior): \")\n",
    "\n",
    "# # Making the prediction\n",
    "# predicted_activity = predict_activity(\n",
    "#     model, \n",
    "#     pool_visits=pool_visits, \n",
    "#     mem_length=mem_length, \n",
    "#     mem_category=mem_category, \n",
    "#     age=age, \n",
    "#     gender=gender, \n",
    "#     class_bookings=class_bookings, \n",
    "#     alt_bookings=alt_bookings, \n",
    "#     oth_bookings=oth_bookings, \n",
    "#     squash_bookings=squash_bookings, \n",
    "#     price_level=price_level\n",
    "# )\n",
    "\n",
    "# # Printing the output with the design template\n",
    "# print_prediction_output(\n",
    "#     predicted_activity, \n",
    "#     pool_visits, \n",
    "#     mem_length, \n",
    "#     mem_category, \n",
    "#     age, \n",
    "#     gender, \n",
    "#     class_bookings, \n",
    "#     alt_bookings, \n",
    "#     oth_bookings, \n",
    "#     squash_bookings, \n",
    "#     price_level\n",
    "# )\n"
   ]
  },
  {
   "cell_type": "code",
   "execution_count": null,
   "id": "b8304d64",
   "metadata": {},
   "outputs": [],
   "source": [
    "# model.save_model('catboost_model.cbm')"
   ]
  },
  {
   "cell_type": "code",
   "execution_count": null,
   "id": "7dd65466-dc22-408a-a47a-67630a09ce78",
   "metadata": {},
   "outputs": [],
   "source": []
  }
 ],
 "metadata": {
  "kernelspec": {
   "display_name": "Python 3 (ipykernel)",
   "language": "python",
   "name": "python3"
  },
  "language_info": {
   "codemirror_mode": {
    "name": "ipython",
    "version": 3
   },
   "file_extension": ".py",
   "mimetype": "text/x-python",
   "name": "python",
   "nbconvert_exporter": "python",
   "pygments_lexer": "ipython3",
   "version": "3.12.4"
  }
 },
 "nbformat": 4,
 "nbformat_minor": 5
}
